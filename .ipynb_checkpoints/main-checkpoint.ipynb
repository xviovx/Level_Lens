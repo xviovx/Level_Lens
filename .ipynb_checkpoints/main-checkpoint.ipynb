{
 "cells": [
  {
   "cell_type": "code",
   "execution_count": 7,
   "id": "1f04022b-b5bd-4708-aaea-e8e96ea36e91",
   "metadata": {},
   "outputs": [],
   "source": [
    "import pandas as pd\n",
    "from sklearn.preprocessing import OneHotEncoder, StandardScaler\n",
    "from sklearn.compose import ColumnTransformer\n",
    "from sklearn.model_selection import train_test_split"
   ]
  },
  {
   "cell_type": "code",
   "execution_count": 8,
   "id": "4d1f2b22-e517-406d-89aa-ff1bdabaf0db",
   "metadata": {},
   "outputs": [
    {
     "data": {
      "text/html": [
       "<div>\n",
       "<style scoped>\n",
       "    .dataframe tbody tr th:only-of-type {\n",
       "        vertical-align: middle;\n",
       "    }\n",
       "\n",
       "    .dataframe tbody tr th {\n",
       "        vertical-align: top;\n",
       "    }\n",
       "\n",
       "    .dataframe thead th {\n",
       "        text-align: right;\n",
       "    }\n",
       "</style>\n",
       "<table border=\"1\" class=\"dataframe\">\n",
       "  <thead>\n",
       "    <tr style=\"text-align: right;\">\n",
       "      <th></th>\n",
       "      <th>text</th>\n",
       "      <th>label</th>\n",
       "    </tr>\n",
       "  </thead>\n",
       "  <tbody>\n",
       "    <tr>\n",
       "      <th>0</th>\n",
       "      <td>Hi!\\nI've been meaning to write for ages and f...</td>\n",
       "      <td>B2</td>\n",
       "    </tr>\n",
       "    <tr>\n",
       "      <th>1</th>\n",
       "      <td>﻿It was not so much how hard people found the ...</td>\n",
       "      <td>B2</td>\n",
       "    </tr>\n",
       "    <tr>\n",
       "      <th>2</th>\n",
       "      <td>Keith recently came back from a trip to Chicag...</td>\n",
       "      <td>B2</td>\n",
       "    </tr>\n",
       "    <tr>\n",
       "      <th>3</th>\n",
       "      <td>The Griffith Observatory is a planetarium, and...</td>\n",
       "      <td>B2</td>\n",
       "    </tr>\n",
       "    <tr>\n",
       "      <th>4</th>\n",
       "      <td>-LRB- The Hollywood Reporter -RRB- It's offici...</td>\n",
       "      <td>B2</td>\n",
       "    </tr>\n",
       "    <tr>\n",
       "      <th>...</th>\n",
       "      <td>...</td>\n",
       "      <td>...</td>\n",
       "    </tr>\n",
       "    <tr>\n",
       "      <th>1489</th>\n",
       "      <td>Light propagating in the vicinity of astrophys...</td>\n",
       "      <td>C2</td>\n",
       "    </tr>\n",
       "    <tr>\n",
       "      <th>1490</th>\n",
       "      <td>Future of dentistry has become one of the most...</td>\n",
       "      <td>C2</td>\n",
       "    </tr>\n",
       "    <tr>\n",
       "      <th>1491</th>\n",
       "      <td>﻿The forests – and suburbs – of Europe are ech...</td>\n",
       "      <td>C2</td>\n",
       "    </tr>\n",
       "    <tr>\n",
       "      <th>1492</th>\n",
       "      <td>Hedge funds are turning bullish on oil once ag...</td>\n",
       "      <td>C2</td>\n",
       "    </tr>\n",
       "    <tr>\n",
       "      <th>1493</th>\n",
       "      <td>Without additional heating, radiative cooling ...</td>\n",
       "      <td>C2</td>\n",
       "    </tr>\n",
       "  </tbody>\n",
       "</table>\n",
       "<p>1494 rows × 2 columns</p>\n",
       "</div>"
      ],
      "text/plain": [
       "                                                   text label\n",
       "0     Hi!\\nI've been meaning to write for ages and f...    B2\n",
       "1     ﻿It was not so much how hard people found the ...    B2\n",
       "2     Keith recently came back from a trip to Chicag...    B2\n",
       "3     The Griffith Observatory is a planetarium, and...    B2\n",
       "4     -LRB- The Hollywood Reporter -RRB- It's offici...    B2\n",
       "...                                                 ...   ...\n",
       "1489  Light propagating in the vicinity of astrophys...    C2\n",
       "1490  Future of dentistry has become one of the most...    C2\n",
       "1491  ﻿The forests – and suburbs – of Europe are ech...    C2\n",
       "1492  Hedge funds are turning bullish on oil once ag...    C2\n",
       "1493  Without additional heating, radiative cooling ...    C2\n",
       "\n",
       "[1494 rows x 2 columns]"
      ]
     },
     "execution_count": 8,
     "metadata": {},
     "output_type": "execute_result"
    }
   ],
   "source": [
    "df = pd.read_csv('cefr_leveled_texts.csv')\n",
    "df"
   ]
  },
  {
   "cell_type": "code",
   "execution_count": 10,
   "id": "92b899f5-c343-450d-8c02-104ec71b659b",
   "metadata": {},
   "outputs": [
    {
     "data": {
      "text/plain": [
       "text     0\n",
       "label    0\n",
       "dtype: int64"
      ]
     },
     "execution_count": 10,
     "metadata": {},
     "output_type": "execute_result"
    }
   ],
   "source": [
    "#handle missing data (non-numerical columns)\n",
    "df.isnull().sum()\n"
   ]
  },
  {
   "cell_type": "code",
   "execution_count": 11,
   "id": "a236c924-07ac-4c6f-8af8-bd6e70f2cba2",
   "metadata": {},
   "outputs": [
    {
     "data": {
      "text/plain": [
       "(0    Hi!\\nI've been meaning to write for ages and f...\n",
       " 1    ﻿It was not so much how hard people found the ...\n",
       " 2    Keith recently came back from a trip to Chicag...\n",
       " 3    The Griffith Observatory is a planetarium, and...\n",
       " 4    -LRB- The Hollywood Reporter -RRB- It's offici...\n",
       " Name: text, dtype: object,\n",
       " 0    B2\n",
       " 1    B2\n",
       " 2    B2\n",
       " 3    B2\n",
       " 4    B2\n",
       " Name: label, dtype: object)"
      ]
     },
     "execution_count": 11,
     "metadata": {},
     "output_type": "execute_result"
    }
   ],
   "source": [
    "#identify dependent and independent variables\n",
    "X = df['text']  # ind var\n",
    "y = df['label']  # dep var (target)\n",
    "\n",
    "X.head(), y.head()"
   ]
  },
  {
   "cell_type": "code",
   "execution_count": 12,
   "id": "e16d37ce-34ce-486f-9842-2c1a0793b10b",
   "metadata": {},
   "outputs": [
    {
     "data": {
      "text/plain": [
       "0    hi ive meaning write ages finally today im act...\n",
       "1    hard people challenge far avoid left researche...\n",
       "2    keith recently came trip chicago illinois midw...\n",
       "3    griffith observatory planetarium exhibit hall ...\n",
       "4    lrb hollywood reporter rrb official amcs walki...\n",
       "Name: text, dtype: object"
      ]
     },
     "execution_count": 12,
     "metadata": {},
     "output_type": "execute_result"
    }
   ],
   "source": [
    "#text cleaning\n",
    "from sklearn.feature_extraction.text import ENGLISH_STOP_WORDS\n",
    "import re\n",
    "\n",
    "def clean_text(text):\n",
    "    #remove special characters\n",
    "    text = re.sub(r'[^a-zA-Z0-9\\s]', '', text)\n",
    "    #change text to lowercase\n",
    "    text = text.lower()\n",
    "    #remove english stop words\n",
    "    text = ' '.join([word for word in text.split() if word not in ENGLISH_STOP_WORDS])\n",
    "    \n",
    "    return text\n",
    "\n",
    "# apply clean_text function\n",
    "X_cleaned = X.apply(clean_text)\n",
    "\n",
    "X_cleaned.head()\n"
   ]
  },
  {
   "cell_type": "code",
   "execution_count": 13,
   "id": "58606379-e4d3-409a-86b6-cd2a49b20e96",
   "metadata": {},
   "outputs": [
    {
     "data": {
      "text/html": [
       "<div>\n",
       "<style scoped>\n",
       "    .dataframe tbody tr th:only-of-type {\n",
       "        vertical-align: middle;\n",
       "    }\n",
       "\n",
       "    .dataframe tbody tr th {\n",
       "        vertical-align: top;\n",
       "    }\n",
       "\n",
       "    .dataframe thead th {\n",
       "        text-align: right;\n",
       "    }\n",
       "</style>\n",
       "<table border=\"1\" class=\"dataframe\">\n",
       "  <thead>\n",
       "    <tr style=\"text-align: right;\">\n",
       "      <th></th>\n",
       "      <th>Original Label</th>\n",
       "      <th>Encoded Label</th>\n",
       "    </tr>\n",
       "  </thead>\n",
       "  <tbody>\n",
       "    <tr>\n",
       "      <th>91</th>\n",
       "      <td>B2</td>\n",
       "      <td>3</td>\n",
       "    </tr>\n",
       "    <tr>\n",
       "      <th>75</th>\n",
       "      <td>B2</td>\n",
       "      <td>3</td>\n",
       "    </tr>\n",
       "    <tr>\n",
       "      <th>1209</th>\n",
       "      <td>A1</td>\n",
       "      <td>0</td>\n",
       "    </tr>\n",
       "    <tr>\n",
       "      <th>330</th>\n",
       "      <td>A2</td>\n",
       "      <td>1</td>\n",
       "    </tr>\n",
       "    <tr>\n",
       "      <th>959</th>\n",
       "      <td>B1</td>\n",
       "      <td>2</td>\n",
       "    </tr>\n",
       "    <tr>\n",
       "      <th>742</th>\n",
       "      <td>C1</td>\n",
       "      <td>4</td>\n",
       "    </tr>\n",
       "    <tr>\n",
       "      <th>893</th>\n",
       "      <td>B1</td>\n",
       "      <td>2</td>\n",
       "    </tr>\n",
       "    <tr>\n",
       "      <th>1194</th>\n",
       "      <td>A1</td>\n",
       "      <td>0</td>\n",
       "    </tr>\n",
       "    <tr>\n",
       "      <th>462</th>\n",
       "      <td>A2</td>\n",
       "      <td>1</td>\n",
       "    </tr>\n",
       "    <tr>\n",
       "      <th>335</th>\n",
       "      <td>A2</td>\n",
       "      <td>1</td>\n",
       "    </tr>\n",
       "  </tbody>\n",
       "</table>\n",
       "</div>"
      ],
      "text/plain": [
       "     Original Label  Encoded Label\n",
       "91               B2              3\n",
       "75               B2              3\n",
       "1209             A1              0\n",
       "330              A2              1\n",
       "959              B1              2\n",
       "742              C1              4\n",
       "893              B1              2\n",
       "1194             A1              0\n",
       "462              A2              1\n",
       "335              A2              1"
      ]
     },
     "execution_count": 13,
     "metadata": {},
     "output_type": "execute_result"
    }
   ],
   "source": [
    "#label encoding\n",
    "from sklearn.preprocessing import LabelEncoder\n",
    "\n",
    "label_encoder = LabelEncoder()\n",
    "\n",
    "# get encoded labels (convert CEFR levels to integers for ease of processing)\n",
    "y_encoded = label_encoder.fit_transform(y)\n",
    "\n",
    "label_comparison = pd.DataFrame({'Original Label': y, 'Encoded Label': y_encoded})\n",
    "\n",
    "label_comparison.sample(10, random_state=1)"
   ]
  },
  {
   "cell_type": "code",
   "execution_count": 14,
   "id": "37bef9ed-7dfd-45b5-a1b8-7eeb2b5283e1",
   "metadata": {},
   "outputs": [
    {
     "data": {
      "text/plain": [
       "(1494, 5000)"
      ]
     },
     "execution_count": 14,
     "metadata": {},
     "output_type": "execute_result"
    }
   ],
   "source": [
    "#text vectorization\n",
    "from sklearn.feature_extraction.text import TfidfVectorizer\n",
    "\n",
    "#init vectorizer\n",
    "tfidf_vectorizer = TfidfVectorizer(max_features=6000, ngram_range=(1, 3))\n",
    "\n",
    "# fit and transform text to get vectors\n",
    "X_vectorized = tfidf_vectorizer.fit_transform(X_cleaned)\n",
    "\n",
    "# show shape of sparse matrix (to understand its dimensions)\n",
    "X_vectorized.shape\n"
   ]
  },
  {
   "cell_type": "code",
   "execution_count": 15,
   "id": "76c96a23-f50b-48b8-97e5-48179d13d507",
   "metadata": {},
   "outputs": [
    {
     "data": {
      "text/plain": [
       "((1195, 5000), (299, 5000), (1195,), (299,))"
      ]
     },
     "execution_count": 15,
     "metadata": {},
     "output_type": "execute_result"
    }
   ],
   "source": [
    "#split data (between training set and validation set)\n",
    "X_train, X_val, y_train, y_val = train_test_split(X_vectorized, y_encoded, test_size=0.2, random_state=42)\n",
    "\n",
    "#show training and validation sets\n",
    "X_train.shape, X_val.shape, y_train.shape, y_val.shape"
   ]
  },
  {
   "cell_type": "code",
   "execution_count": 16,
   "id": "1dc78b78-c2d1-4de3-b3d1-14438703155b",
   "metadata": {},
   "outputs": [],
   "source": [
    "#init multinomial naive bayes classifier \n",
    "from sklearn.naive_bayes import MultinomialNB\n",
    "\n",
    "nb_classifier = MultinomialNB()"
   ]
  },
  {
   "cell_type": "code",
   "execution_count": 17,
   "id": "8cd5dcb4-e231-4c8d-8565-a0a90c55cfe4",
   "metadata": {},
   "outputs": [
    {
     "data": {
      "text/html": [
       "<style>#sk-container-id-2 {color: black;}#sk-container-id-2 pre{padding: 0;}#sk-container-id-2 div.sk-toggleable {background-color: white;}#sk-container-id-2 label.sk-toggleable__label {cursor: pointer;display: block;width: 100%;margin-bottom: 0;padding: 0.3em;box-sizing: border-box;text-align: center;}#sk-container-id-2 label.sk-toggleable__label-arrow:before {content: \"▸\";float: left;margin-right: 0.25em;color: #696969;}#sk-container-id-2 label.sk-toggleable__label-arrow:hover:before {color: black;}#sk-container-id-2 div.sk-estimator:hover label.sk-toggleable__label-arrow:before {color: black;}#sk-container-id-2 div.sk-toggleable__content {max-height: 0;max-width: 0;overflow: hidden;text-align: left;background-color: #f0f8ff;}#sk-container-id-2 div.sk-toggleable__content pre {margin: 0.2em;color: black;border-radius: 0.25em;background-color: #f0f8ff;}#sk-container-id-2 input.sk-toggleable__control:checked~div.sk-toggleable__content {max-height: 200px;max-width: 100%;overflow: auto;}#sk-container-id-2 input.sk-toggleable__control:checked~label.sk-toggleable__label-arrow:before {content: \"▾\";}#sk-container-id-2 div.sk-estimator input.sk-toggleable__control:checked~label.sk-toggleable__label {background-color: #d4ebff;}#sk-container-id-2 div.sk-label input.sk-toggleable__control:checked~label.sk-toggleable__label {background-color: #d4ebff;}#sk-container-id-2 input.sk-hidden--visually {border: 0;clip: rect(1px 1px 1px 1px);clip: rect(1px, 1px, 1px, 1px);height: 1px;margin: -1px;overflow: hidden;padding: 0;position: absolute;width: 1px;}#sk-container-id-2 div.sk-estimator {font-family: monospace;background-color: #f0f8ff;border: 1px dotted black;border-radius: 0.25em;box-sizing: border-box;margin-bottom: 0.5em;}#sk-container-id-2 div.sk-estimator:hover {background-color: #d4ebff;}#sk-container-id-2 div.sk-parallel-item::after {content: \"\";width: 100%;border-bottom: 1px solid gray;flex-grow: 1;}#sk-container-id-2 div.sk-label:hover label.sk-toggleable__label {background-color: #d4ebff;}#sk-container-id-2 div.sk-serial::before {content: \"\";position: absolute;border-left: 1px solid gray;box-sizing: border-box;top: 0;bottom: 0;left: 50%;z-index: 0;}#sk-container-id-2 div.sk-serial {display: flex;flex-direction: column;align-items: center;background-color: white;padding-right: 0.2em;padding-left: 0.2em;position: relative;}#sk-container-id-2 div.sk-item {position: relative;z-index: 1;}#sk-container-id-2 div.sk-parallel {display: flex;align-items: stretch;justify-content: center;background-color: white;position: relative;}#sk-container-id-2 div.sk-item::before, #sk-container-id-2 div.sk-parallel-item::before {content: \"\";position: absolute;border-left: 1px solid gray;box-sizing: border-box;top: 0;bottom: 0;left: 50%;z-index: -1;}#sk-container-id-2 div.sk-parallel-item {display: flex;flex-direction: column;z-index: 1;position: relative;background-color: white;}#sk-container-id-2 div.sk-parallel-item:first-child::after {align-self: flex-end;width: 50%;}#sk-container-id-2 div.sk-parallel-item:last-child::after {align-self: flex-start;width: 50%;}#sk-container-id-2 div.sk-parallel-item:only-child::after {width: 0;}#sk-container-id-2 div.sk-dashed-wrapped {border: 1px dashed gray;margin: 0 0.4em 0.5em 0.4em;box-sizing: border-box;padding-bottom: 0.4em;background-color: white;}#sk-container-id-2 div.sk-label label {font-family: monospace;font-weight: bold;display: inline-block;line-height: 1.2em;}#sk-container-id-2 div.sk-label-container {text-align: center;}#sk-container-id-2 div.sk-container {/* jupyter's `normalize.less` sets `[hidden] { display: none; }` but bootstrap.min.css set `[hidden] { display: none !important; }` so we also need the `!important` here to be able to override the default hidden behavior on the sphinx rendered scikit-learn.org. See: https://github.com/scikit-learn/scikit-learn/issues/21755 */display: inline-block !important;position: relative;}#sk-container-id-2 div.sk-text-repr-fallback {display: none;}</style><div id=\"sk-container-id-2\" class=\"sk-top-container\"><div class=\"sk-text-repr-fallback\"><pre>MultinomialNB()</pre><b>In a Jupyter environment, please rerun this cell to show the HTML representation or trust the notebook. <br />On GitHub, the HTML representation is unable to render, please try loading this page with nbviewer.org.</b></div><div class=\"sk-container\" hidden><div class=\"sk-item\"><div class=\"sk-estimator sk-toggleable\"><input class=\"sk-toggleable__control sk-hidden--visually\" id=\"sk-estimator-id-2\" type=\"checkbox\" checked><label for=\"sk-estimator-id-2\" class=\"sk-toggleable__label sk-toggleable__label-arrow\">MultinomialNB</label><div class=\"sk-toggleable__content\"><pre>MultinomialNB()</pre></div></div></div></div></div>"
      ],
      "text/plain": [
       "MultinomialNB()"
      ]
     },
     "execution_count": 17,
     "metadata": {},
     "output_type": "execute_result"
    }
   ],
   "source": [
    "#train the model with the pre-processed data\n",
    "nb_classifier.fit(X_train, y_train)"
   ]
  },
  {
   "cell_type": "code",
   "execution_count": 18,
   "id": "1a0a6771-d55e-48f2-bb71-50bfaf8e5e89",
   "metadata": {},
   "outputs": [
    {
     "data": {
      "text/plain": [
       "array([4, 3, 4, 3, 3, 3, 1, 1, 1, 2, 0, 3, 0, 5, 3, 1, 3, 3, 0, 3, 1, 3,\n",
       "       3, 4, 1, 3, 3, 3, 0, 3, 3, 1, 5, 3, 3, 3, 1, 5, 0, 3, 3, 3, 1, 1,\n",
       "       1, 1, 1, 0, 4, 1, 0, 1, 3, 1, 3, 3, 2, 4, 3, 1, 4, 3, 1, 3, 5, 4,\n",
       "       0, 1, 1, 3, 3, 0, 3, 3, 0, 3, 0, 1, 0, 1, 0, 3, 3, 4, 3, 1, 0, 0,\n",
       "       4, 1, 0, 5, 0, 4, 1, 5, 0, 3, 0, 1, 3, 4, 4, 3, 5, 3, 4, 3, 1, 3,\n",
       "       1, 1, 3, 1, 3, 0, 0, 4, 0, 0, 5, 4, 3, 4, 3, 4, 0, 3, 3, 0, 3, 3,\n",
       "       0, 1, 2, 3, 0, 3, 0, 3, 5, 3, 3, 1, 3, 1, 1, 5, 3, 0, 0, 0, 5, 1,\n",
       "       1, 3, 0, 1, 3, 0, 1, 3, 0, 3, 3, 1, 0, 0, 3, 4, 1, 1, 4, 3, 1, 4,\n",
       "       4, 0, 4, 3, 3, 4, 0, 3, 5, 4, 1, 0, 1, 0, 1, 1, 0, 1, 3, 0, 4, 1,\n",
       "       5, 1, 5, 3, 1, 0, 1, 3, 4, 3, 0, 3, 3, 0, 3, 1, 0, 4, 4, 4, 3, 3,\n",
       "       3, 1, 1, 3, 3, 3, 4, 1, 0, 3, 0, 0, 5, 4, 5, 2, 0, 2, 3, 3, 1, 0,\n",
       "       4, 0, 4, 1, 4, 0, 1, 0, 0, 3, 3, 5, 1, 3, 3, 0, 0, 3, 3, 5, 2, 5,\n",
       "       1, 0, 1, 1, 1, 0, 3, 1, 4, 3, 1, 3, 0, 3, 0, 1, 1, 3, 1, 3, 0, 3,\n",
       "       0, 3, 4, 3, 1, 3, 0, 0, 2, 1, 0, 3, 3])"
      ]
     },
     "execution_count": 18,
     "metadata": {},
     "output_type": "execute_result"
    }
   ],
   "source": [
    "#time to make predictions on the validation data set\n",
    "y_pred = nb_classifier.predict(X_val)\n",
    "y_pred"
   ]
  },
  {
   "cell_type": "code",
   "execution_count": 20,
   "id": "036ba70f-bb73-4306-a4a4-7c2104c50e03",
   "metadata": {},
   "outputs": [
    {
     "data": {
      "text/plain": [
       "0.5284280936454849"
      ]
     },
     "execution_count": 20,
     "metadata": {},
     "output_type": "execute_result"
    }
   ],
   "source": [
    "#determine accuracy of model\n",
    "from sklearn.metrics import accuracy_score\n",
    "\n",
    "accuracy = accuracy_score(y_val, y_pred)\n",
    "accuracy"
   ]
  },
  {
   "cell_type": "code",
   "execution_count": null,
   "id": "b305300e-1b72-49fc-8ede-ef7f8332d1ed",
   "metadata": {},
   "outputs": [],
   "source": []
  }
 ],
 "metadata": {
  "kernelspec": {
   "display_name": "Python 3 (ipykernel)",
   "language": "python",
   "name": "python3"
  },
  "language_info": {
   "codemirror_mode": {
    "name": "ipython",
    "version": 3
   },
   "file_extension": ".py",
   "mimetype": "text/x-python",
   "name": "python",
   "nbconvert_exporter": "python",
   "pygments_lexer": "ipython3",
   "version": "3.11.1"
  }
 },
 "nbformat": 4,
 "nbformat_minor": 5
}
